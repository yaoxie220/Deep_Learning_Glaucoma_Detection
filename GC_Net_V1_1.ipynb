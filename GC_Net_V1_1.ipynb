{
  "cells": [
    {
      "cell_type": "markdown",
      "metadata": {
        "id": "zSe1AP6oordw"
      },
      "source": []
    },
    {
      "cell_type": "code",
      "execution_count": null,
      "metadata": {
        "colab": {
          "base_uri": "https://localhost:8080/"
        },
        "id": "bXkBDxjJ75f5",
        "outputId": "71993d00-e652-46ca-ebab-10aef5c18ac0"
      },
      "outputs": [
        {
          "name": "stdout",
          "output_type": "stream",
          "text": [
            "Mounted at /content/gdrive/\n"
          ]
        }
      ],
      "source": [
        "from google.colab import drive\n",
        "drive.mount('/content/gdrive/')\n"
      ]
    },
    {
      "cell_type": "code",
      "execution_count": null,
      "metadata": {
        "id": "quxZq3bN8MFZ"
      },
      "outputs": [],
      "source": [
        "import keras\n",
        "from keras.layers import BatchNormalization, Conv2D, SeparableConv2D, Activation, Dropout, MaxPool2D, Add, Dense\n",
        "from tensorflow.keras.applications import Xception\n",
        "import tensorflow as tf"
      ]
    },
    {
      "cell_type": "code",
      "execution_count": null,
      "metadata": {
        "id": "NudKGDcZ8N1Q"
      },
      "outputs": [],
      "source": [
        "inp = keras.Input(shape=(224, 224, 3))\n",
        "m = (Conv2D(64, (3, 3), padding='same', activation='relu'))(inp)\n",
        "m = (BatchNormalization())(m)\n",
        "m = (Activation('linear'))(m)\n",
        "mod = (Conv2D(128, (1, 1), strides=2))(m)\n",
        "mod = (BatchNormalization())(mod)\n",
        "\n",
        "m = (SeparableConv2D(128, (3, 3), padding='same', activation='relu'))(m)\n",
        "m = (BatchNormalization())(m)\n",
        "m = (Activation('linear'))(m)\n",
        "m = (MaxPool2D((3, 3), 2, padding='same'))(m)\n",
        "m = keras.layers.Add()([m, mod])\n",
        "mod = (Conv2D(256, (1, 1), strides=2))(m)\n",
        "mod = (BatchNormalization())(mod)\n",
        "\n",
        "m = (SeparableConv2D(256, (3, 3), padding='same', activation='relu'))(m)\n",
        "m = (BatchNormalization())(m)\n",
        "m = (Activation('linear'))(m)\n",
        "m = (MaxPool2D((3, 3), 2, padding='same'))(m)\n",
        "m = keras.layers.Add()([m, mod])\n",
        "mod = (Conv2D(784, (1, 1), strides=2))(m)\n",
        "mod = (BatchNormalization())(mod)\n",
        "\n",
        "m = (SeparableConv2D(784, (3, 3), padding='same', activation='relu'))(m)\n",
        "m = (BatchNormalization())(m)\n",
        "m = (Activation('linear'))(m)\n",
        "m = (MaxPool2D((3, 3), 2, padding='same'))(m)\n",
        "m = keras.layers.Add()([m, mod])\n",
        "mod = (Conv2D(784, (1, 1), strides=2))(m)\n",
        "mod = (BatchNormalization())(mod)\n",
        "\n",
        "m = (SeparableConv2D(784, (3, 3), padding='same', activation='relu'))(m)\n",
        "m = (BatchNormalization())(m)\n",
        "m = (Activation('linear'))(m)\n",
        "m = (MaxPool2D((3, 3), 2, padding='same'))(m)\n",
        "m = keras.layers.Add()([m, mod])\n",
        "mod = (Conv2D(1024, (1, 1), strides=2))(m)\n",
        "mod = (BatchNormalization())(mod)\n",
        "\n",
        "m = (SeparableConv2D(1024, (3, 3), padding='same', activation='relu'))(m)\n",
        "m = (BatchNormalization())(m)\n",
        "m = (Activation('linear'))(m)\n",
        "m = (MaxPool2D((3, 3), 2, padding='same'))(m)\n",
        "m = keras.layers.Add()([m, mod])\n",
        "mod = (Conv2D(1024, (1, 1), strides=2))(m)\n",
        "mod = (BatchNormalization())(mod)\n",
        "\n",
        "m = (SeparableConv2D(1024, (3, 3), padding='same', activation='relu'))(m)\n",
        "m = (BatchNormalization())(m)\n",
        "m = (Activation('linear'))(m)\n",
        "m = (MaxPool2D((3, 3), 2, padding='same'))(m)\n",
        "m = keras.layers.Add()([m, mod])\n",
        "mod = (Conv2D(784, (1, 1), strides=2))(m)\n",
        "mod = (BatchNormalization())(mod)\n",
        "\n",
        "m = (SeparableConv2D(784, (3, 3), padding='same', activation='relu'))(m)\n",
        "m = (BatchNormalization())(m)\n",
        "m = (Activation('linear'))(m)\n",
        "m = (MaxPool2D((3, 3), 2, padding='same'))(m)\n",
        "m = keras.layers.Add()([m, mod])\n",
        "mod = (Conv2D(512, (1, 1), strides=2))(m)\n",
        "mod = (BatchNormalization())(mod)\n",
        "\n",
        "m = (SeparableConv2D(512, (3, 3), padding='same', activation='relu'))(m)\n",
        "m = (BatchNormalization())(m)\n",
        "m = (Activation('linear'))(m)\n",
        "m = (MaxPool2D((3, 3), 2, padding='same'))(m)\n",
        "m = keras.layers.Add()([m, mod])\n",
        "mod = (Conv2D(256, (1, 1), strides=2))(m)\n",
        "mod = (BatchNormalization())(mod)\n",
        "\n",
        "m = (SeparableConv2D(256, (3, 3), padding='same', activation='relu'))(m)\n",
        "m = (BatchNormalization())(m)\n",
        "m = (Activation('linear'))(m)\n",
        "m = (MaxPool2D((3, 3), 2, padding='same'))(m)\n",
        "m = keras.layers.Add()([m, mod])\n",
        "\n",
        "m = (SeparableConv2D(128, (3, 3), padding='same', activation='relu'))(m)\n",
        "m = (BatchNormalization())(m)\n",
        "m = (Activation('linear'))(m)\n",
        "m = (SeparableConv2D(128, (3, 3), padding='same', activation='relu'))(m)\n",
        "m = (BatchNormalization())(m)\n",
        "m = (Activation('linear'))(m)\n",
        "m = (Dropout(0.2))(m)\n",
        "m = (keras.layers.GlobalMaxPooling2D())(m)\n",
        "m = (Dense(1, activation='sigmoid'))(m)\n",
        "model = keras.Model(inp, m)"
      ]
    },
    {
      "cell_type": "code",
      "execution_count": null,
      "metadata": {
        "id": "eK8XdA2D8bv9"
      },
      "outputs": [],
      "source": [
        "import os\n",
        "import numpy as np\n",
        "import matplotlib.pyplot as plt\n",
        "from PIL import Image\n",
        "import pandas as pd\n",
        "\n",
        "\n",
        "from keras.preprocessing.image import ImageDataGenerator"
      ]
    },
    {
      "cell_type": "code",
      "execution_count": null,
      "metadata": {
        "id": "f4OjxLeL8czv"
      },
      "outputs": [],
      "source": [
        "data = pd.read_csv(\"/content/gdrive/My Drive/glaucoma2.csv\")\n",
        "glaucoma = np.array(data)"
      ]
    },
    {
      "cell_type": "code",
      "execution_count": null,
      "metadata": {
        "id": "xIPTXAVX8iE3"
      },
      "outputs": [],
      "source": [
        "x = []\n",
        "y = []\n",
        "\n",
        "choicelist = list(range(0, len(glaucoma)))\n",
        "\n",
        "for i in range(len(glaucoma)):\n",
        "  ind = np.random.choice(choicelist)\n",
        "  filename = str(glaucoma[ind][0])\n",
        "\n",
        "  filepath = \"/content/gdrive/My Drive/ACRIMA/Images\"\n",
        "\n",
        "  img = np.array(Image.open(os.path.join(filepath, filename)).resize((224, 224), Image.ANTIALIAS)).reshape(224, 224, 3)\n",
        "  img = img/255.0\n",
        "\n",
        "  x.append(img)\n",
        "  y.append(glaucoma[ind][1])"
      ]
    },
    {
      "cell_type": "code",
      "execution_count": null,
      "metadata": {
        "colab": {
          "base_uri": "https://localhost:8080/"
        },
        "id": "djlyUNCp-c7j",
        "outputId": "2ab66f01-d587-46b5-8224-2d0692e40139"
      },
      "outputs": [
        {
          "data": {
            "text/plain": [
              "(705, 224, 224, 3)"
            ]
          },
          "execution_count": 8,
          "metadata": {},
          "output_type": "execute_result"
        }
      ],
      "source": [
        "x = np.array(x)\n",
        "y = np.array(y)\n",
        "x.shape"
      ]
    },
    {
      "cell_type": "code",
      "execution_count": null,
      "metadata": {
        "id": "sd816Esf_mCr"
      },
      "outputs": [],
      "source": [
        "from sklearn.model_selection import train_test_split\n",
        "\n",
        "x_tr, x_te, y_tr, y_te = train_test_split(x, y, test_size=0.2, random_state=1)\n",
        "\n",
        "x_t, x_v, y_t, y_v = train_test_split(x_tr, y_tr, test_size=0.2, random_state=1)"
      ]
    },
    {
      "cell_type": "code",
      "execution_count": null,
      "metadata": {
        "id": "OKP6je3O_pE5"
      },
      "outputs": [],
      "source": [
        "from tensorflow.keras.optimizers import Adadelta\n",
        "from tensorflow.keras.utils import to_categorical"
      ]
    },
    {
      "cell_type": "code",
      "execution_count": null,
      "metadata": {
        "colab": {
          "base_uri": "https://localhost:8080/"
        },
        "id": "hFwel2P0_2If",
        "outputId": "2bb13858-63a7-401c-eb1b-c20f0940acfe"
      },
      "outputs": [
        {
          "name": "stderr",
          "output_type": "stream",
          "text": [
            "/usr/local/lib/python3.7/dist-packages/keras/optimizer_v2/adadelta.py:74: UserWarning: The `lr` argument is deprecated, use `learning_rate` instead.\n",
            "  super(Adadelta, self).__init__(name, **kwargs)\n"
          ]
        }
      ],
      "source": [
        "model.compile(loss= 'binary_crossentropy', optimizer=Adadelta(lr=0.001), metrics=['accuracy'])\n",
        "imgen = ImageDataGenerator(vertical_flip=True, horizontal_flip=True, rotation_range=20)\n",
        "imgen.fit(x_t)"
      ]
    },
    {
      "cell_type": "code",
      "execution_count": null,
      "metadata": {
        "colab": {
          "background_save": true,
          "base_uri": "https://localhost:8080/"
        },
        "id": "xd-I95g8_7mk",
        "outputId": "3f0d9131-881d-4943-fdd1-302bdb7d48df"
      },
      "outputs": [
        {
          "name": "stderr",
          "output_type": "stream",
          "text": [
            "/usr/local/lib/python3.7/dist-packages/ipykernel_launcher.py:4: UserWarning: `Model.fit_generator` is deprecated and will be removed in a future version. Please use `Model.fit`, which supports generators.\n",
            "  after removing the cwd from sys.path.\n"
          ]
        },
        {
          "name": "stdout",
          "output_type": "stream",
          "text": [
            "Epoch 1/35\n",
            "28/28 [==============================] - 348s 12s/step - loss: 0.2981 - accuracy: 0.9103 - val_loss: 0.3054 - val_accuracy: 0.9115\n",
            "Epoch 2/35\n",
            "28/28 [==============================] - 347s 12s/step - loss: 0.3024 - accuracy: 0.8874 - val_loss: 0.3010 - val_accuracy: 0.9115\n",
            "Epoch 3/35\n",
            "28/28 [==============================] - 343s 12s/step - loss: 0.3160 - accuracy: 0.8736 - val_loss: 0.2977 - val_accuracy: 0.9115\n",
            "Epoch 4/35\n",
            "28/28 [==============================] - 348s 12s/step - loss: 0.3060 - accuracy: 0.8920 - val_loss: 0.2946 - val_accuracy: 0.9115\n",
            "Epoch 5/35\n",
            "28/28 [==============================] - 347s 12s/step - loss: 0.2948 - accuracy: 0.8874 - val_loss: 0.2912 - val_accuracy: 0.9115\n",
            "Epoch 6/35\n",
            "28/28 [==============================] - 342s 12s/step - loss: 0.2920 - accuracy: 0.9149 - val_loss: 0.2871 - val_accuracy: 0.9115\n",
            "Epoch 7/35\n",
            "28/28 [==============================] - 347s 12s/step - loss: 0.2795 - accuracy: 0.9034 - val_loss: 0.2843 - val_accuracy: 0.9115\n",
            "Epoch 8/35\n",
            "28/28 [==============================] - 344s 12s/step - loss: 0.2993 - accuracy: 0.9011 - val_loss: 0.2832 - val_accuracy: 0.9115\n",
            "Epoch 9/35\n",
            "28/28 [==============================] - 346s 12s/step - loss: 0.2857 - accuracy: 0.9080 - val_loss: 0.2796 - val_accuracy: 0.9115\n",
            "Epoch 10/35\n",
            "28/28 [==============================] - 349s 12s/step - loss: 0.3120 - accuracy: 0.8920 - val_loss: 0.2763 - val_accuracy: 0.9115\n",
            "Epoch 11/35\n",
            "28/28 [==============================] - 346s 12s/step - loss: 0.2586 - accuracy: 0.9310 - val_loss: 0.2734 - val_accuracy: 0.9115\n",
            "Epoch 12/35\n",
            "28/28 [==============================] - 348s 12s/step - loss: 0.2714 - accuracy: 0.9057 - val_loss: 0.2718 - val_accuracy: 0.9115\n",
            "Epoch 13/35\n",
            "28/28 [==============================] - 346s 12s/step - loss: 0.2719 - accuracy: 0.9080 - val_loss: 0.2697 - val_accuracy: 0.9115\n",
            "Epoch 14/35\n",
            "28/28 [==============================] - 345s 12s/step - loss: 0.2779 - accuracy: 0.9103 - val_loss: 0.2668 - val_accuracy: 0.9115\n",
            "Epoch 15/35\n",
            "28/28 [==============================] - 347s 12s/step - loss: 0.3000 - accuracy: 0.8966 - val_loss: 0.2661 - val_accuracy: 0.9115\n"
          ]
        }
      ],
      "source": [
        "from tensorflow.keras.callbacks import ModelCheckpoint,EarlyStopping, ReduceLROnPlateau\n",
        "checkpoint = ModelCheckpoint(r'/content/gdrive/MyDrive/checkpoints/GC-Net.h5',\n",
        "                            monitor='val_loss',save_best_only=True,save_weights_only = False)\n",
        "history = model.fit_generator(imgen.flow(x_t, y_t, batch_size=16), epochs=35, steps_per_epoch=len(x_t)//16, validation_data=(x_v, y_v), validation_steps=len(x_v)//16, shuffle=True)"
      ]
    },
    {
      "cell_type": "code",
      "execution_count": null,
      "metadata": {
        "colab": {
          "background_save": true
        },
        "id": "66-K2W-IAUnk",
        "outputId": "b56f2dfb-b8de-4af4-9a0c-ea556bf17c3c"
      },
      "outputs": [
        {
          "name": "stdout",
          "output_type": "stream",
          "text": [
            "5/5 [==============================] - 28s 5s/step - loss: 0.2726 - accuracy: 0.9291\n"
          ]
        }
      ],
      "source": [
        "loss, acc = model.evaluate(x_te, y_te)"
      ]
    },
    {
      "cell_type": "code",
      "execution_count": null,
      "metadata": {
        "colab": {
          "background_save": true
        },
        "id": "1Y7qZolJMU6f",
        "outputId": "ea3842a0-754b-4d3c-acae-d898572766e5"
      },
      "outputs": [
        {
          "name": "stdout",
          "output_type": "stream",
          "text": [
            "0.2725681960582733 0.9290780425071716\n"
          ]
        }
      ],
      "source": [
        "print(loss, acc)"
      ]
    },
    {
      "cell_type": "code",
      "execution_count": null,
      "metadata": {
        "colab": {
          "background_save": true
        },
        "id": "mry0WY3SREog",
        "outputId": "68c14f49-55cd-4cbf-d6c6-8ee6946639b2"
      },
      "outputs": [
        {
          "data": {
            "image/png": "[encoded data removed]",
            "text/plain": [
              "<Figure size 432x288 with 1 Axes>"
            ]
          },
          "metadata": {},
          "output_type": "display_data"
        },
        {
          "data": {
            "image/png": "[encoded data removed]",
            "text/plain": [
              "<Figure size 432x288 with 1 Axes>"
            ]
          },
          "metadata": {},
          "output_type": "display_data"
        }
      ],
      "source": [
        "plt.plot(history.history['accuracy'])\n",
        "plt.plot(history.history['val_accuracy'])\n",
        "plt.title(\"Model Accuracy\")\n",
        "plt.xlabel('Epoch')\n",
        "plt.ylabel('Accuracy')\n",
        "plt.legend(['Validation', 'Train'], loc='lower right')\n",
        "plt.show()\n",
        "\n",
        "plt.plot(history.history['loss'])\n",
        "plt.plot(history.history['val_loss'])\n",
        "plt.title(\"Model Loss\")\n",
        "plt.xlabel('Epoch')\n",
        "plt.ylabel('Loss')\n",
        "plt.legend(['Validation', 'Train'], loc='lower right')\n",
        "plt.show()"
      ]
    },
    {
      "cell_type": "code",
      "execution_count": null,
      "metadata": {
        "id": "J1492jQfMtCw"
      },
      "outputs": [],
      "source": [
        "pred= np.round(model.predict(x_te, verbose=1, batch_size=16))\n",
        "from sklearn.metrics import confusion_matrix\n",
        "conf_matrix= confusion_matrix(y_te, pred)\n",
        "import seaborn as sb\n",
        "print (conf_matrix)\n",
        "sb.heatmap(conf_matrix, annot=True, fmt='.5g')"
      ]
    },
    {
      "cell_type": "code",
      "execution_count": null,
      "metadata": {
        "colab": {
          "background_save": true
        },
        "id": "8X5B9MJpMun7",
        "outputId": "db713baf-a1fe-47a2-8013-03bc02a66534"
      },
      "outputs": [
        {
          "name": "stdout",
          "output_type": "stream",
          "text": [
            "The area under the ROC curve:  0.9319692563356875\n"
          ]
        }
      ],
      "source": [
        "from sklearn import metrics\n",
        "print(\"The area under the ROC curve: \", metrics.roc_auc_score(y_te, pred))"
      ]
    },
    {
      "cell_type": "code",
      "execution_count": null,
      "metadata": {
        "colab": {
          "background_save": true
        },
        "id": "HWNtVOhWNUGe"
      },
      "outputs": [],
      "source": [
        "from keras import backend as K\n",
        "\n",
        "def sensitivity(y_true, y_pred):\n",
        "    true_positives = K.sum(K.round(K.clip(y_true * y_pred, 0, 1)))\n",
        "    possible_positives = K.sum(K.round(K.clip(y_true, 0, 1)))\n",
        "    return true_positives / (possible_positives + K.epsilon())\n",
        "\n",
        "def specificity(y_true, y_pred):\n",
        "    true_negatives = K.sum(K.round(K.clip((1-y_true) * (1-y_pred), 0, 1)))\n",
        "    possible_negatives = K.sum(K.round(K.clip(1-y_true, 0, 1)))\n",
        "    return true_negatives / (possible_negatives + K.epsilon())"
      ]
    },
    {
      "cell_type": "code",
      "execution_count": null,
      "metadata": {
        "id": "xZouJhaTPUWV"
      },
      "outputs": [],
      "source": [
        "print(\"sensitivity: \", sensitivity(y_te.astype('float32'), pred.astype('float32')))"
      ]
    },
    {
      "cell_type": "code",
      "execution_count": null,
      "metadata": {
        "colab": {
          "base_uri": "https://localhost:8080/"
        },
        "id": "1ITIJpF5PZTy",
        "outputId": "81184b6f-7a0c-4f23-a2d6-54a54f1e6dd6"
      },
      "outputs": [
        {
          "name": "stdout",
          "output_type": "stream",
          "text": [
            "specificity:  tf.Tensor(63.0, shape=(), dtype=float32)\n"
          ]
        }
      ],
      "source": [
        "print(\"specificity: \", specificity(y_te.astype('float32'), pred.astype('float32')))"
      ]
    },
    {
      "cell_type": "code",
      "execution_count": null,
      "metadata": {
        "colab": {
          "base_uri": "https://localhost:8080/"
        },
        "id": "lUW5_GzaPjkm",
        "outputId": "a243052b-f195-4ebe-cf27-e8bd8903b929"
      },
      "outputs": [
        {
          "name": "stdout",
          "output_type": "stream",
          "text": [
            "              precision    recall  f1-score   support\n",
            "\n",
            "           0       0.89      0.88      0.88        64\n",
            "           1       0.90      0.91      0.90        77\n",
            "\n",
            "    accuracy                           0.89       141\n",
            "   macro avg       0.89      0.89      0.89       141\n",
            "weighted avg       0.89      0.89      0.89       141\n",
            "\n"
          ]
        }
      ],
      "source": [
        "from sklearn.metrics import classification_report\n",
        "print(classification_report(y_te, pred))"
      ]
    },
    {
      "cell_type": "code",
      "execution_count": null,
      "metadata": {
        "id": "G3z9vvP6QvhU"
      },
      "outputs": [],
      "source": [
        "fpr, tpr, tresholds = metrics.roc_curve(y_te, pred)"
      ]
    },
    {
      "cell_type": "code",
      "execution_count": null,
      "metadata": {
        "id": "LJbLHAmdQ4RB"
      },
      "outputs": [],
      "source": [
        "auc_rf = metrics.auc(fpr, tpr)"
      ]
    },
    {
      "cell_type": "code",
      "execution_count": null,
      "metadata": {
        "colab": {
          "base_uri": "https://localhost:8080/",
          "height": 295
        },
        "id": "qQ_eelQnQ5go",
        "outputId": "bca1633b-fbcb-4915-95db-192e70bee07b"
      },
      "outputs": [
        {
          "data": {
            "image/png": "[encoded data removed]",
            "text/plain": [
              "<Figure size 432x288 with 1 Axes>"
            ]
          },
          "metadata": {},
          "output_type": "display_data"
        }
      ],
      "source": [
        "plt.figure(1)\n",
        "plt.plot([0, 1], [0, 1], 'k--')\n",
        "# plt.plot(fpr_keras, tpr_keras, label='Keras (area = {:.3f})'.format(auc_keras))\n",
        "plt.plot(fpr, tpr, label='RF (area = {:.3f})'.format(auc_rf))\n",
        "plt.xlabel('False positive rate')\n",
        "plt.ylabel('True positive rate')\n",
        "plt.title('ROC curve')\n",
        "plt.legend(loc='best')\n",
        "plt.show()"
      ]
    },
    {
      "cell_type": "code",
      "execution_count": null,
      "metadata": {
        "id": "bg1OmTmiQ6hx"
      },
      "outputs": [],
      "source": []
    }
  ],
  "metadata": {
    "colab": {
      "provenance": []
    },
    "kernelspec": {
      "display_name": "Python 3",
      "name": "python3"
    },
    "language_info": {
      "name": "python"
    }
  },
  "nbformat": 4,
  "nbformat_minor": 0
}