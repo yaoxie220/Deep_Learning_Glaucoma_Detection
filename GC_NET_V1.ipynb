{
  "nbformat": 4,
  "nbformat_minor": 0,
  "metadata": {
    "colab": {
      "provenance": []
    },
    "kernelspec": {
      "name": "python3",
      "display_name": "Python 3"
    },
    "language_info": {
      "name": "python"
    }
  },
  "cells": [
    {
      "cell_type": "code",
      "execution_count": null,
      "metadata": {
        "colab": {
          "base_uri": "https://localhost:8080/"
        },
        "id": "O0Sn03RrL3vK",
        "outputId": "f8d5a0d8-ea4c-477f-9aac-c89ab5fc341b"
      },
      "outputs": [
        {
          "output_type": "stream",
          "name": "stdout",
          "text": [
            "Mounted at /content/gdrive/\n"
          ]
        }
      ],
      "source": [
        "from google.colab import drive\n",
        "drive.mount('/content/gdrive/')"
      ]
    },
    {
      "cell_type": "code",
      "source": [
        "import keras\n",
        "from keras.layers import BatchNormalization, Conv2D, SeparableConv2D, Activation, Dropout, MaxPool2D, Add, Dense\n",
        "from tensorflow.keras.applications import Xception\n",
        "import tensorflow as tf\n",
        "from tensorflow.keras.models import Model"
      ],
      "metadata": {
        "id": "6RPVrs8NMAWI"
      },
      "execution_count": null,
      "outputs": []
    },
    {
      "cell_type": "code",
      "source": [
        "inp = keras.Input(shape=(224, 224, 3))\n",
        "m = (Conv2D(64, (3, 3), padding='same', activation='relu'))(inp)\n",
        "m = (BatchNormalization())(m)\n",
        "m = (Activation('linear'))(m)\n",
        "mod = (Conv2D(128, (1, 1), strides=2))(m)\n",
        "mod = (BatchNormalization())(mod)\n",
        "\n",
        "m = (SeparableConv2D(128, (3, 3), padding='same', activation='relu'))(m)\n",
        "m = (BatchNormalization())(m)\n",
        "m = (Activation('linear'))(m)\n",
        "m = (MaxPool2D((3, 3), 2, padding='same'))(m)\n",
        "m = keras.layers.Add()([m, mod])\n",
        "mod = (Conv2D(256, (1, 1), strides=2))(m)\n",
        "mod = (BatchNormalization())(mod)\n",
        "\n",
        "m = (SeparableConv2D(256, (3, 3), padding='same', activation='relu'))(m)\n",
        "m = (BatchNormalization())(m)\n",
        "m = (Activation('linear'))(m)\n",
        "m = (MaxPool2D((3, 3), 2, padding='same'))(m)\n",
        "m = keras.layers.Add()([m, mod])\n",
        "mod = (Conv2D(784, (1, 1), strides=2))(m)\n",
        "mod = (BatchNormalization())(mod)\n",
        "\n",
        "m = (SeparableConv2D(784, (3, 3), padding='same', activation='relu'))(m)\n",
        "m = (BatchNormalization())(m)\n",
        "m = (Activation('linear'))(m)\n",
        "m = (MaxPool2D((3, 3), 2, padding='same'))(m)\n",
        "m = keras.layers.Add()([m, mod])\n",
        "mod = (Conv2D(784, (1, 1), strides=2))(m)\n",
        "mod = (BatchNormalization())(mod)\n",
        "\n",
        "m = (SeparableConv2D(784, (3, 3), padding='same', activation='relu'))(m)\n",
        "m = (BatchNormalization())(m)\n",
        "m = (Activation('linear'))(m)\n",
        "m = (MaxPool2D((3, 3), 2, padding='same'))(m)\n",
        "m = keras.layers.Add()([m, mod])\n",
        "mod = (Conv2D(1024, (1, 1), strides=2))(m)\n",
        "mod = (BatchNormalization())(mod)\n",
        "\n",
        "m = (SeparableConv2D(1024, (3, 3), padding='same', activation='relu'))(m)\n",
        "m = (BatchNormalization())(m)\n",
        "m = (Activation('linear'))(m)\n",
        "m = (MaxPool2D((3, 3), 2, padding='same'))(m)\n",
        "m = keras.layers.Add()([m, mod])\n",
        "mod = (Conv2D(1024, (1, 1), strides=2))(m)\n",
        "mod = (BatchNormalization())(mod)\n",
        "\n",
        "m = (SeparableConv2D(1024, (3, 3), padding='same', activation='relu'))(m)\n",
        "m = (BatchNormalization())(m)\n",
        "m = (Activation('linear'))(m)\n",
        "m = (MaxPool2D((3, 3), 2, padding='same'))(m)\n",
        "m = keras.layers.Add()([m, mod])\n",
        "mod = (Conv2D(784, (1, 1), strides=2))(m)\n",
        "mod = (BatchNormalization())(mod)\n",
        "\n",
        "m = (SeparableConv2D(784, (3, 3), padding='same', activation='relu'))(m)\n",
        "m = (BatchNormalization())(m)\n",
        "m = (Activation('linear'))(m)\n",
        "m = (MaxPool2D((3, 3), 2, padding='same'))(m)\n",
        "m = keras.layers.Add()([m, mod])\n",
        "mod = (Conv2D(512, (1, 1), strides=2))(m)\n",
        "mod = (BatchNormalization())(mod)\n",
        "\n",
        "m = (SeparableConv2D(512, (3, 3), padding='same', activation='relu'))(m)\n",
        "m = (BatchNormalization())(m)\n",
        "m = (Activation('linear'))(m)\n",
        "m = (MaxPool2D((3, 3), 2, padding='same'))(m)\n",
        "m = keras.layers.Add()([m, mod])\n",
        "mod = (Conv2D(256, (1, 1), strides=2))(m)\n",
        "mod = (BatchNormalization())(mod)\n",
        "\n",
        "m = (SeparableConv2D(256, (3, 3), padding='same', activation='relu'))(m)\n",
        "m = (BatchNormalization())(m)\n",
        "m = (Activation('linear'))(m)\n",
        "m = (MaxPool2D((3, 3), 2, padding='same'))(m)\n",
        "m = keras.layers.Add()([m, mod])\n",
        "\n",
        "m = (SeparableConv2D(128, (3, 3), padding='same', activation='relu'))(m)\n",
        "m = (BatchNormalization())(m)\n",
        "m = (Activation('linear'))(m)\n",
        "m = (SeparableConv2D(128, (3, 3), padding='same', activation='relu'))(m)\n",
        "m = (BatchNormalization())(m)\n",
        "m = (Activation('linear'))(m)\n",
        "m = (Dropout(0.2))(m)\n",
        "m = (keras.layers.GlobalMaxPooling2D())(m)\n",
        "m = (Dense(2, activation='softmax'))(m)\n",
        "model = keras.Model(inp, m)"
      ],
      "metadata": {
        "id": "-2HLzNlLMIMf"
      },
      "execution_count": null,
      "outputs": []
    },
    {
      "cell_type": "code",
      "source": [
        "import os\n",
        "import numpy as np\n",
        "import matplotlib.pyplot as plt\n",
        "from PIL import Image\n",
        "import pandas as pd\n",
        "\n",
        "\n",
        "from keras.preprocessing.image import ImageDataGenerator"
      ],
      "metadata": {
        "id": "Q_LXGgdJM1TX"
      },
      "execution_count": null,
      "outputs": []
    },
    {
      "cell_type": "code",
      "source": [
        "from tensorflow.keras.optimizers import Adadelta\n",
        "from tensorflow.keras.utils import to_categorical\n",
        "from tensorflow.keras.callbacks import ModelCheckpoint,EarlyStopping, ReduceLROnPlateau"
      ],
      "metadata": {
        "id": "7p6YddNONRom"
      },
      "execution_count": null,
      "outputs": []
    },
    {
      "cell_type": "code",
      "source": [
        "model.compile(loss= 'categorical_crossentropy', optimizer=Adadelta(lr=0.01), metrics=['accuracy'])"
      ],
      "metadata": {
        "colab": {
          "base_uri": "https://localhost:8080/"
        },
        "id": "Rlfgssh6NWQw",
        "outputId": "5953729d-2f88-4787-b94f-401d9f118957"
      },
      "execution_count": null,
      "outputs": [
        {
          "output_type": "stream",
          "name": "stderr",
          "text": [
            "/usr/local/lib/python3.7/dist-packages/keras/optimizer_v2/adadelta.py:74: UserWarning: The `lr` argument is deprecated, use `learning_rate` instead.\n",
            "  super(Adadelta, self).__init__(name, **kwargs)\n"
          ]
        }
      ]
    },
    {
      "cell_type": "code",
      "source": [
        "data = pd.read_csv(\"/content/gdrive/My Drive/glaucoma.csv\")\n",
        "glaucoma = np.array(data)\n",
        "glaucoma[1][4]"
      ],
      "metadata": {
        "colab": {
          "base_uri": "https://localhost:8080/",
          "height": 204
        },
        "id": "RmozsnRkNeZu",
        "outputId": "18546601-a809-414a-952f-56ad3c7fe004"
      },
      "execution_count": null,
      "outputs": [
        {
          "output_type": "error",
          "ename": "IndexError",
          "evalue": "ignored",
          "traceback": [
            "\u001b[0;31m---------------------------------------------------------------------------\u001b[0m",
            "\u001b[0;31mIndexError\u001b[0m                                Traceback (most recent call last)",
            "\u001b[0;32m<ipython-input-8-5e246cd248d7>\u001b[0m in \u001b[0;36m<module>\u001b[0;34m()\u001b[0m\n\u001b[1;32m      1\u001b[0m \u001b[0mdata\u001b[0m \u001b[0;34m=\u001b[0m \u001b[0mpd\u001b[0m\u001b[0;34m.\u001b[0m\u001b[0mread_csv\u001b[0m\u001b[0;34m(\u001b[0m\u001b[0;34m\"/content/gdrive/My Drive/glaucoma.csv\"\u001b[0m\u001b[0;34m)\u001b[0m\u001b[0;34m\u001b[0m\u001b[0;34m\u001b[0m\u001b[0m\n\u001b[1;32m      2\u001b[0m \u001b[0mglaucoma\u001b[0m \u001b[0;34m=\u001b[0m \u001b[0mnp\u001b[0m\u001b[0;34m.\u001b[0m\u001b[0marray\u001b[0m\u001b[0;34m(\u001b[0m\u001b[0mdata\u001b[0m\u001b[0;34m)\u001b[0m\u001b[0;34m\u001b[0m\u001b[0;34m\u001b[0m\u001b[0m\n\u001b[0;32m----> 3\u001b[0;31m \u001b[0mglaucoma\u001b[0m\u001b[0;34m[\u001b[0m\u001b[0;36m1\u001b[0m\u001b[0;34m]\u001b[0m\u001b[0;34m[\u001b[0m\u001b[0;36m4\u001b[0m\u001b[0;34m]\u001b[0m\u001b[0;34m\u001b[0m\u001b[0;34m\u001b[0m\u001b[0m\n\u001b[0m",
            "\u001b[0;31mIndexError\u001b[0m: index 4 is out of bounds for axis 0 with size 2"
          ]
        }
      ]
    },
    {
      "cell_type": "code",
      "source": [
        "x = []\n",
        "y = []\n",
        "\n",
        "choicelist = list(range(0, len(glaucoma)))\n",
        "\n",
        "for i in range(len(glaucoma)):\n",
        "  ind = np.random.choice(choicelist)\n",
        "  filename = str(glaucoma[ind][0])\n",
        "\n",
        "  filepath = \"/content/gdrive/My Drive/Cropped_true_v1.0\"\n",
        "\n",
        "  img = np.array(Image.open(os.path.join(filepath, filename)).resize((224, 224), Image.ANTIALIAS)).reshape(224, 224, 3)\n",
        "  img = img/255.0\n",
        "\n",
        "  x.append(img)\n",
        "  y.append(glaucoma[ind][4])"
      ],
      "metadata": {
        "id": "L0Tl3U3TNwYv"
      },
      "execution_count": null,
      "outputs": []
    },
    {
      "cell_type": "code",
      "source": [
        "x = np.array(x)\n",
        "y = np.array(y)"
      ],
      "metadata": {
        "id": "4MThLjLRdv8Y"
      },
      "execution_count": null,
      "outputs": []
    },
    {
      "cell_type": "code",
      "source": [
        "from sklearn.model_selection import train_test_split\n",
        "\n",
        "x_tr, x_te, y_tr, y_te = train_test_split(x, y, test_size=0.2, random_state=1)\n",
        "\n",
        "x_t, x_v, y_t, y_v = train_test_split(x_tr, y_tr, test_size=0.2, random_state=1)"
      ],
      "metadata": {
        "id": "I--icATidzAu"
      },
      "execution_count": null,
      "outputs": []
    },
    {
      "cell_type": "code",
      "source": [
        "imgen = ImageDataGenerator(vertical_flip=True, horizontal_flip=True, rotation_range=20)\n",
        "imgen.fit(x_t)\n"
      ],
      "metadata": {
        "id": "wHOGLQW7Sohe"
      },
      "execution_count": null,
      "outputs": []
    },
    {
      "cell_type": "code",
      "source": [
        "batchsize = 16\n",
        "train_datagen= ImageDataGenerator(rescale=1./255, rotation_range=90, horizontal_flip= True, vertical_flip= True,validation_split=0.2)\n",
        "\n",
        "train_data= train_datagen.flow_from_directory(r'/content/gdrive/MyDrive/ORIGA_Organized-2/Train',\n",
        "                                target_size=(224,224),batch_size=batchsize,class_mode='categorical',subset='training' )\n",
        "\n",
        "validation_data= train_datagen.flow_from_directory(r'/content/gdrive/MyDrive/ORIGA_Organized-2/Train',\n",
        "                                target_size=(224,224),batch_size=batchsize,class_mode='categorical', subset='validation')"
      ],
      "metadata": {
        "colab": {
          "base_uri": "https://localhost:8080/"
        },
        "id": "DrK17vEpv7XT",
        "outputId": "0d0cfa26-5c33-42c9-e3c4-95eee9e60554"
      },
      "execution_count": null,
      "outputs": [
        {
          "output_type": "stream",
          "name": "stdout",
          "text": [
            "Found 644 images belonging to 2 classes.\n",
            "Found 160 images belonging to 2 classes.\n"
          ]
        }
      ]
    },
    {
      "cell_type": "code",
      "source": [
        "test_datagen = ImageDataGenerator(rescale=1./255)\n",
        "\n",
        "test_data = test_datagen.flow_from_directory(r'/content/gdrive/MyDrive/ORIGA_Organized-2/Test',\n",
        "                                target_size=(224,224),batch_size=batchsize,class_mode='categorical', shuffle=False)"
      ],
      "metadata": {
        "colab": {
          "base_uri": "https://localhost:8080/"
        },
        "id": "PKVhhG1nw5d8",
        "outputId": "d81de209-b862-416b-871e-54e8b098ebda"
      },
      "execution_count": null,
      "outputs": [
        {
          "output_type": "stream",
          "name": "stdout",
          "text": [
            "Found 204 images belonging to 2 classes.\n"
          ]
        }
      ]
    },
    {
      "cell_type": "code",
      "source": [
        "checkpoint = ModelCheckpoint(r'/content/gdrive/MyDrive/checkpoints/GC-Net-v1.1.h5',\n",
        "                            monitor='val_loss',save_best_only=True,verbose=3)\n",
        "\n",
        "earlystop = EarlyStopping(monitor = 'val_loss', patience=11, verbose=3, restore_best_weights=True)\n",
        "\n",
        "learning_rate = ReduceLROnPlateau(monitor= 'val_loss', patience=5, verbose=3)\n",
        "\n",
        "callbacks=[checkpoint, learning_rate]"
      ],
      "metadata": {
        "id": "dFFEnUr6Phvz"
      },
      "execution_count": null,
      "outputs": []
    },
    {
      "cell_type": "code",
      "source": [
        "from tensorflow.keras.optimizers import RMSprop\n",
        "model.compile(loss='categorical_crossentropy', optimizer=RMSprop(lr=1e-4), metrics=['acc'])\n",
        "\n",
        "history = model.fit_generator(train_data, epochs=35, steps_per_epoch=train_data.samples//batchsize, validation_data=validation_data, validation_steps=validation_data.samples//batchsize, callbacks= callbacks, shuffle=True)"
      ],
      "metadata": {
        "colab": {
          "base_uri": "https://localhost:8080/"
        },
        "id": "kSsGPDaPOl9I",
        "outputId": "1381bc9f-8572-4b02-c180-174e89d2763e"
      },
      "execution_count": null,
      "outputs": [
        {
          "metadata": {
            "tags": null
          },
          "name": "stderr",
          "output_type": "stream",
          "text": [
            "/usr/local/lib/python3.7/dist-packages/keras/optimizer_v2/rmsprop.py:130: UserWarning: The `lr` argument is deprecated, use `learning_rate` instead.\n",
            "  super(RMSprop, self).__init__(name, **kwargs)\n",
            "/usr/local/lib/python3.7/dist-packages/ipykernel_launcher.py:4: UserWarning: `Model.fit_generator` is deprecated and will be removed in a future version. Please use `Model.fit`, which supports generators.\n",
            "  after removing the cwd from sys.path.\n"
          ]
        },
        {
          "metadata": {
            "tags": null
          },
          "name": "stdout",
          "output_type": "stream",
          "text": [
            "Epoch 1/35\n",
            "40/40 [==============================] - ETA: 0s - loss: 0.7076 - acc: 0.6274 \n",
            "Epoch 1: val_loss improved from inf to 0.56204, saving model to /content/gdrive/MyDrive/checkpoints/GC-Net-v1.2.h5\n",
            "40/40 [==============================] - 607s 15s/step - loss: 0.7076 - acc: 0.6274 - val_loss: 0.5620 - val_acc: 0.7063 - lr: 1.0000e-04\n",
            "Epoch 2/35\n",
            "40/40 [==============================] - ETA: 0s - loss: 0.6757 - acc: 0.6401 \n",
            "Epoch 2: val_loss improved from 0.56204 to 0.52871, saving model to /content/gdrive/MyDrive/checkpoints/GC-Net-v1.2.h5\n",
            "40/40 [==============================] - 585s 15s/step - loss: 0.6757 - acc: 0.6401 - val_loss: 0.5287 - val_acc: 0.7500 - lr: 1.0000e-04\n",
            "Epoch 3/35\n",
            "40/40 [==============================] - ETA: 0s - loss: 0.6166 - acc: 0.6799 \n",
            "Epoch 3: val_loss did not improve from 0.52871\n",
            "40/40 [==============================] - 584s 15s/step - loss: 0.6166 - acc: 0.6799 - val_loss: 0.6023 - val_acc: 0.7063 - lr: 1.0000e-04\n",
            "Epoch 4/35\n",
            "40/40 [==============================] - ETA: 0s - loss: 0.5671 - acc: 0.7150 \n",
            "Epoch 4: val_loss improved from 0.52871 to 0.52133, saving model to /content/gdrive/MyDrive/checkpoints/GC-Net-v1.2.h5\n",
            "40/40 [==============================] - 583s 15s/step - loss: 0.5671 - acc: 0.7150 - val_loss: 0.5213 - val_acc: 0.7563 - lr: 1.0000e-04\n",
            "Epoch 5/35\n",
            "40/40 [==============================] - ETA: 0s - loss: 0.5890 - acc: 0.6879 \n",
            "Epoch 5: val_loss did not improve from 0.52133\n",
            "40/40 [==============================] - 595s 15s/step - loss: 0.5890 - acc: 0.6879 - val_loss: 0.5845 - val_acc: 0.7063 - lr: 1.0000e-04\n",
            "Epoch 6/35\n",
            "40/40 [==============================] - ETA: 0s - loss: 0.5576 - acc: 0.7213 \n",
            "Epoch 6: val_loss did not improve from 0.52133\n",
            "40/40 [==============================] - 581s 15s/step - loss: 0.5576 - acc: 0.7213 - val_loss: 0.5383 - val_acc: 0.7625 - lr: 1.0000e-04\n",
            "Epoch 7/35\n",
            "40/40 [==============================] - ETA: 0s - loss: 0.5490 - acc: 0.7229 \n",
            "Epoch 7: val_loss did not improve from 0.52133\n",
            "40/40 [==============================] - 582s 15s/step - loss: 0.5490 - acc: 0.7229 - val_loss: 0.5482 - val_acc: 0.7437 - lr: 1.0000e-04\n",
            "Epoch 8/35\n",
            "40/40 [==============================] - ETA: 0s - loss: 0.5156 - acc: 0.7436 \n",
            "Epoch 8: val_loss improved from 0.52133 to 0.50289, saving model to /content/gdrive/MyDrive/checkpoints/GC-Net-v1.2.h5\n",
            "40/40 [==============================] - 584s 15s/step - loss: 0.5156 - acc: 0.7436 - val_loss: 0.5029 - val_acc: 0.7312 - lr: 1.0000e-04\n",
            "Epoch 9/35\n",
            "40/40 [==============================] - ETA: 0s - loss: 0.5083 - acc: 0.7548 \n",
            "Epoch 9: val_loss improved from 0.50289 to 0.49502, saving model to /content/gdrive/MyDrive/checkpoints/GC-Net-v1.2.h5\n",
            "40/40 [==============================] - 571s 14s/step - loss: 0.5083 - acc: 0.7548 - val_loss: 0.4950 - val_acc: 0.7625 - lr: 1.0000e-04\n",
            "Epoch 10/35\n",
            "24/40 [=================>............] - ETA: 3:34 - loss: 0.5270 - acc: 0.7446"
          ]
        }
      ]
    },
    {
      "cell_type": "code",
      "source": [
        "loss, acc = model.evaluate(test_data)"
      ],
      "metadata": {
        "colab": {
          "base_uri": "https://localhost:8080/"
        },
        "id": "nXYmNtDbPjXy",
        "outputId": "34f2247c-56db-4041-9d71-6f7b010b099f"
      },
      "execution_count": null,
      "outputs": [
        {
          "output_type": "stream",
          "name": "stdout",
          "text": [
            "9/9 [==============================] - 27s 3s/step - loss: 0.6268 - acc: 0.6692\n"
          ]
        }
      ]
    },
    {
      "cell_type": "code",
      "source": [
        "model = tf.keras.models.load_model(\"/content/gdrive/MyDrive/checkpoints/GC-Net-v1.2.h5\")"
      ],
      "metadata": {
        "id": "DTGfJBWyb20h"
      },
      "execution_count": null,
      "outputs": []
    },
    {
      "cell_type": "code",
      "source": [
        "loss, acc = model.evaluate(test_data)"
      ],
      "metadata": {
        "colab": {
          "base_uri": "https://localhost:8080/"
        },
        "id": "S9JKHi29Z2x-",
        "outputId": "c7ba2eb9-d32a-440e-c704-504ff5298971"
      },
      "execution_count": null,
      "outputs": [
        {
          "output_type": "stream",
          "name": "stdout",
          "text": [
            "13/13 [==============================] - 36s 3s/step - loss: 0.8067 - acc: 0.6225\n"
          ]
        }
      ]
    },
    {
      "cell_type": "code",
      "source": [
        "print(loss, acc)"
      ],
      "metadata": {
        "colab": {
          "base_uri": "https://localhost:8080/"
        },
        "id": "51yldahexPhG",
        "outputId": "af758f2a-70f0-4171-bb50-7a2ccfc52693"
      },
      "execution_count": null,
      "outputs": [
        {
          "output_type": "stream",
          "name": "stdout",
          "text": [
            "0.3977862000465393 0.8187500238418579\n"
          ]
        }
      ]
    },
    {
      "cell_type": "code",
      "source": [
        "from sklearn import metrics\n",
        "from sklearn.metrics import classification_report, confusion_matrix\n",
        "Y_pred = model.predict(validation_data)\n",
        "y_pred = np.argmax(Y_pred, axis=1)\n",
        "score_test = metrics.accuracy_score(validation_data.classes, y_pred)\n",
        "print(\"Accuracy: \", score_test)\n",
        "print('Confusion Matrix')\n",
        "print(confusion_matrix(validation_data.classes, y_pred))\n",
        "import seaborn as sb\n",
        "conf_matrix = confusion_matrix(validation_data.classes, y_pred)\n",
        "sb.heatmap(conf_matrix, annot=True, fmt='.5g')"
      ],
      "metadata": {
        "colab": {
          "base_uri": "https://localhost:8080/",
          "height": 358
        },
        "id": "aiT9Npo4xb5X",
        "outputId": "398369c4-899f-4465-ea89-a44e7d171ec6"
      },
      "execution_count": null,
      "outputs": [
        {
          "output_type": "stream",
          "name": "stdout",
          "text": [
            "Accuracy:  0.45625\n",
            "Confusion Matrix\n",
            "[[32 48]\n",
            " [39 41]]\n"
          ]
        },
        {
          "output_type": "execute_result",
          "data": {
            "text/plain": [
              "<matplotlib.axes._subplots.AxesSubplot at 0x7fc3f8b992d0>"
            ]
          },
          "metadata": {},
          "execution_count": 118
        },
        {
          "output_type": "display_data",
          "data": {
            "text/plain": [
              "<Figure size 432x288 with 2 Axes>"
            ],
            "image/png": "[encoded data removed]"
          },
          "metadata": {
            "needs_background": "light"
          }
        }
      ]
    },
    {
      "cell_type": "code",
      "source": [
        "plt.plot(0.07594, 0.9516, label='RF (area = {:.3f})'.format(0.897))\n",
        "plt.xlabel('False positive rate')\n",
        "plt.ylabel('True positive rate')\n",
        "plt.title('ROC curve')\n",
        "plt.legend(loc='best')\n",
        "plt.show()\n",
        "\n"
      ],
      "metadata": {
        "id": "njNJ-ZHhxqU3",
        "colab": {
          "base_uri": "https://localhost:8080/",
          "height": 295
        },
        "outputId": "295439f3-61bb-46f5-c3e3-065912275461"
      },
      "execution_count": null,
      "outputs": [
        {
          "output_type": "display_data",
          "data": {
            "text/plain": [
              "<Figure size 432x288 with 1 Axes>"
            ],
            "image/png": "[encoded data removed]"
          },
          "metadata": {
            "needs_background": "light"
          }
        }
      ]
    },
    {
      "cell_type": "code",
      "source": [],
      "metadata": {
        "id": "Wiq_6XUv-fnP"
      },
      "execution_count": null,
      "outputs": []
    }
  ]
}